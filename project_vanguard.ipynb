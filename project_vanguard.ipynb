{
 "cells": [
  {
   "cell_type": "code",
   "execution_count": 2,
   "metadata": {},
   "outputs": [],
   "source": [
    "matplotlib inline"
   ]
  },
  {
   "cell_type": "code",
   "execution_count": 3,
   "metadata": {},
   "outputs": [],
   "source": [
    "import pandas as pd\n",
    "import matplotlib.pyplot as plt\n",
    "import seaborn as sns\n",
    "import numpy as np"
   ]
  },
  {
   "cell_type": "code",
   "execution_count": 4,
   "metadata": {},
   "outputs": [],
   "source": [
    "df1 = pd.read_csv(\"df_final_web_data_pt_1.txt\")\n",
    "df2 = pd.read_csv(\"df_final_web_data_pt_2.txt\")"
   ]
  },
  {
   "cell_type": "code",
   "execution_count": 5,
   "metadata": {},
   "outputs": [],
   "source": [
    "df_demo = pd.read_csv(\"df_final_demo.txt\")\n",
    "df_experiment = pd.read_csv(\"df_final_experiment_clients.txt\")"
   ]
  },
  {
   "cell_type": "markdown",
   "metadata": {},
   "source": [
    "Concatenamos los dos dataframes sobre web data"
   ]
  },
  {
   "cell_type": "code",
   "execution_count": 6,
   "metadata": {},
   "outputs": [],
   "source": [
    "df_web = pd.concat ([df1, df2], ignore_index=True, axis=0)"
   ]
  },
  {
   "cell_type": "markdown",
   "metadata": {},
   "source": [
    "### Comenzamos limpieza del df demográfico"
   ]
  },
  {
   "cell_type": "markdown",
   "metadata": {},
   "source": [
    "Creamos nuevas columnas para limpiar los meses y años"
   ]
  },
  {
   "cell_type": "code",
   "execution_count": 7,
   "metadata": {},
   "outputs": [],
   "source": [
    "df_demo.drop(columns=['clnt_tenure_yr'], inplace=True)"
   ]
  },
  {
   "cell_type": "code",
   "execution_count": 8,
   "metadata": {},
   "outputs": [],
   "source": [
    "df_demo['tenure_years'] = (df_demo['clnt_tenure_mnth'].fillna(0) // 12).astype(int)\n",
    "df_demo['tenure_months_resto'] = (df_demo['clnt_tenure_mnth'].fillna(0) % 12).astype(int)"
   ]
  },
  {
   "cell_type": "code",
   "execution_count": 9,
   "metadata": {},
   "outputs": [],
   "source": [
    "#creamos el nuevo orden deseado de las columnas nuevas\n",
    "cols = df_demo.columns.tolist()\n",
    "\n",
    "# Eliminamos las columnas que vamos a reubicar\n",
    "cols.remove('tenure_years')\n",
    "cols.remove('tenure_months_resto')\n",
    "\n",
    "# Insertamos las nuevas columnas en la posición deseada\n",
    "cols.insert(2, 'tenure_years')          \n",
    "cols.insert(3, 'tenure_months_resto')   \n",
    "\n",
    "df_demo = df_demo[cols]"
   ]
  },
  {
   "cell_type": "code",
   "execution_count": 10,
   "metadata": {},
   "outputs": [],
   "source": [
    "#rellenamos nulos\n",
    "df_demo['clnt_age'] = df_demo['clnt_age'].fillna(0)\n",
    "df_demo['num_accts'] = df_demo['num_accts'].fillna(0)\n",
    "df_demo['calls_6_mnth'] = df_demo['calls_6_mnth'].fillna(0)\n",
    "df_demo['logons_6_mnth'] = df_demo['logons_6_mnth'].fillna(0)\n",
    "df_demo['bal'] = df_demo['bal'].fillna(0)  "
   ]
  },
  {
   "cell_type": "code",
   "execution_count": 11,
   "metadata": {},
   "outputs": [],
   "source": [
    "#convertimos a enteros\n",
    "df_demo['clnt_age'] = df_demo['clnt_age'].astype(int)\n",
    "df_demo['num_accts'] = df_demo['num_accts'].astype(int)\n",
    "df_demo['calls_6_mnth'] = df_demo['calls_6_mnth'].astype(int)\n",
    "df_demo['logons_6_mnth'] = df_demo['logons_6_mnth'].astype(int)"
   ]
  },
  {
   "cell_type": "code",
   "execution_count": 12,
   "metadata": {},
   "outputs": [],
   "source": [
    "#redondeamos la columna bal a dos decimales\n",
    "df_demo['bal'] = df_demo['bal'].round(2)"
   ]
  },
  {
   "cell_type": "markdown",
   "metadata": {},
   "source": [
    "### Comenzamos el análisis"
   ]
  },
  {
   "cell_type": "markdown",
   "metadata": {},
   "source": [
    "#### Análisis general"
   ]
  },
  {
   "cell_type": "code",
   "execution_count": 13,
   "metadata": {},
   "outputs": [],
   "source": [
    "from data_cleaning_utils import *"
   ]
  },
  {
   "cell_type": "code",
   "execution_count": 14,
   "metadata": {},
   "outputs": [
    {
     "name": "stdout",
     "output_type": "stream",
     "text": [
      "\n",
      "Shape: (70609, 10)\n",
      "\n",
      "Info:\n",
      "<class 'pandas.core.frame.DataFrame'>\n",
      "RangeIndex: 70609 entries, 0 to 70608\n",
      "Data columns (total 10 columns):\n",
      " #   Column               Non-Null Count  Dtype  \n",
      "---  ------               --------------  -----  \n",
      " 0   client_id            70609 non-null  int64  \n",
      " 1   clnt_tenure_mnth     70595 non-null  float64\n",
      " 2   tenure_years         70609 non-null  int64  \n",
      " 3   tenure_months_resto  70609 non-null  int64  \n",
      " 4   clnt_age             70609 non-null  int64  \n",
      " 5   gendr                70595 non-null  object \n",
      " 6   num_accts            70609 non-null  int64  \n",
      " 7   bal                  70609 non-null  float64\n",
      " 8   calls_6_mnth         70609 non-null  int64  \n",
      " 9   logons_6_mnth        70609 non-null  int64  \n",
      "dtypes: float64(2), int64(7), object(1)\n",
      "memory usage: 5.4+ MB\n",
      "None\n",
      "\n",
      "Tipos de datos:\n",
      "client_id                int64\n",
      "clnt_tenure_mnth       float64\n",
      "tenure_years             int64\n",
      "tenure_months_resto      int64\n",
      "clnt_age                 int64\n",
      "gendr                   object\n",
      "num_accts                int64\n",
      "bal                    float64\n",
      "calls_6_mnth             int64\n",
      "logons_6_mnth            int64\n",
      "dtype: object\n"
     ]
    }
   ],
   "source": [
    "overview(df_demo)"
   ]
  },
  {
   "cell_type": "code",
   "execution_count": 15,
   "metadata": {},
   "outputs": [
    {
     "data": {
      "text/plain": [
       "Index(['client_id', 'clnt_tenure_mnth', 'tenure_years', 'tenure_months_resto',\n",
       "       'clnt_age', 'gendr', 'num_accts', 'bal', 'calls_6_mnth',\n",
       "       'logons_6_mnth'],\n",
       "      dtype='object')"
      ]
     },
     "execution_count": 15,
     "metadata": {},
     "output_type": "execute_result"
    }
   ],
   "source": [
    "df_demo.columns"
   ]
  },
  {
   "cell_type": "markdown",
   "metadata": {},
   "source": [
    "Ver el género de todos nuestros clientes"
   ]
  },
  {
   "cell_type": "code",
   "execution_count": 16,
   "metadata": {},
   "outputs": [
    {
     "data": {
      "text/plain": [
       "gendr\n",
       "U    24122\n",
       "M    23724\n",
       "F    22746\n",
       "X        3\n",
       "Name: count, dtype: int64"
      ]
     },
     "execution_count": 16,
     "metadata": {},
     "output_type": "execute_result"
    }
   ],
   "source": [
    "df_demo['gendr'].value_counts()"
   ]
  },
  {
   "cell_type": "code",
   "execution_count": 17,
   "metadata": {},
   "outputs": [
    {
     "name": "stderr",
     "output_type": "stream",
     "text": [
      "C:\\Users\\BMENDI\\AppData\\Local\\Temp\\ipykernel_11444\\3461465121.py:3: FutureWarning: \n",
      "\n",
      "Passing `palette` without assigning `hue` is deprecated and will be removed in v0.14.0. Assign the `x` variable to `hue` and set `legend=False` for the same effect.\n",
      "\n",
      "  ax =sns.barplot(x=gendr.index, y=gendr.values, palette=\"Set3\")\n"
     ]
    },
    {
     "data": {
      "image/png": "[encoded data removed]",
      "text/plain": [
       "<Figure size 640x480 with 1 Axes>"
      ]
     },
     "metadata": {},
     "output_type": "display_data"
    }
   ],
   "source": [
    "gendr= df_demo['gendr'].value_counts().sort_index()\n",
    "\n",
    "ax =sns.barplot(x=gendr.index, y=gendr.values, palette=\"Set3\")\n",
    "plt.title(\"Cantidad de clientes por género\")\n",
    "plt.xticks(fontsize=9)\n",
    "\n",
    "# Añadir etiquetas de texto con count y %\n",
    "total = gendr.sum()\n",
    "for i, count in enumerate(gendr.values):\n",
    "    pct = count / total * 100\n",
    "    ax.text(i, count + total * 0.01, f\"{count} ({pct:.1f}%)\", ha='center', fontsize=9)\n",
    "\n",
    "plt.show()"
   ]
  },
  {
   "cell_type": "markdown",
   "metadata": {},
   "source": [
    "Ver la edad de todos nuestros clientes."
   ]
  },
  {
   "cell_type": "code",
   "execution_count": 18,
   "metadata": {},
   "outputs": [
    {
     "data": {
      "image/png": "[encoded data removed]",
      "text/plain": [
       "<Figure size 640x480 with 1 Axes>"
      ]
     },
     "metadata": {},
     "output_type": "display_data"
    }
   ],
   "source": [
    "sns.histplot(df_demo['clnt_age'], kde=True, bins=30, color=\"green\")\n",
    "plt.show()"
   ]
  },
  {
   "cell_type": "markdown",
   "metadata": {},
   "source": [
    "La antiguedad de todos nuestros clientes"
   ]
  },
  {
   "cell_type": "code",
   "execution_count": 19,
   "metadata": {},
   "outputs": [
    {
     "name": "stderr",
     "output_type": "stream",
     "text": [
      "C:\\Users\\BMENDI\\AppData\\Local\\Temp\\ipykernel_11444\\3696678643.py:3: FutureWarning: \n",
      "\n",
      "Passing `palette` without assigning `hue` is deprecated and will be removed in v0.14.0. Assign the `x` variable to `hue` and set `legend=False` for the same effect.\n",
      "\n",
      "  sns.barplot(x=conteo_años.index, y=conteo_años.values, palette=\"Set3\")\n"
     ]
    },
    {
     "data": {
      "image/png": "[encoded data removed]",
      "text/plain": [
       "<Figure size 640x480 with 1 Axes>"
      ]
     },
     "metadata": {},
     "output_type": "display_data"
    }
   ],
   "source": [
    "df_demo['tenure_years'] = (df_demo['clnt_tenure_mnth'].fillna(0) // 12).astype(int)\n",
    "conteo_años = df_demo['tenure_years'].value_counts().sort_index()\n",
    "sns.barplot(x=conteo_años.index, y=conteo_años.values, palette=\"Set3\")\n",
    "plt.title(\"Cantidad de clientes por antigüedad (en años)\")\n",
    "plt.xticks(fontsize=5)\n",
    "plt.show()"
   ]
  },
  {
   "cell_type": "markdown",
   "metadata": {},
   "source": [
    "### Analisis del cliente principal"
   ]
  },
  {
   "cell_type": "markdown",
   "metadata": {},
   "source": [
    "Creación de quintiles por cantidad de bal , así categorizamos los que invierten más y menos con nosotros."
   ]
  },
  {
   "cell_type": "code",
   "execution_count": 20,
   "metadata": {},
   "outputs": [],
   "source": [
    "labels = ['Muy baja inversión', 'Baja inversión', 'Media inversión', 'Alta inversión', 'Muy alta inversión']\n",
    "\n",
    "df_demo['rango_inversion'] = pd.cut(df_demo['bal'], bins=5, labels=labels)"
   ]
  },
  {
   "cell_type": "code",
   "execution_count": 21,
   "metadata": {},
   "outputs": [],
   "source": [
    "grupos = ['Baja inversión', 'Media inversión', 'Alta inversión', 'Muy alta inversión']\n",
    "df_top_4_quintiles = df_demo[df_demo['rango_inversion'].isin(grupos)]"
   ]
  },
  {
   "cell_type": "code",
   "execution_count": 22,
   "metadata": {},
   "outputs": [],
   "source": [
    "conteo_rangos = df_demo['rango_inversion'].value_counts().sort_index()"
   ]
  },
  {
   "cell_type": "code",
   "execution_count": 23,
   "metadata": {},
   "outputs": [
    {
     "name": "stdout",
     "output_type": "stream",
     "text": [
      "IntervalIndex([   (-16320.04, 3264008.03],   (3264008.03, 6528016.06],\n",
      "                 (6528016.06, 9792024.09],  (9792024.09, 13056032.12],\n",
      "               (13056032.12, 16320040.15]],\n",
      "              dtype='interval[float64, right]')\n"
     ]
    }
   ],
   "source": [
    "corte = pd.cut(df_demo['bal'], bins=5)\n",
    "\n",
    "# Ver los intervalos exactos\n",
    "print(corte.cat.categories)"
   ]
  },
  {
   "cell_type": "code",
   "execution_count": 24,
   "metadata": {},
   "outputs": [
    {
     "name": "stdout",
     "output_type": "stream",
     "text": [
      "rango_inversion\n",
      "Muy baja inversión    70518\n",
      "Baja inversión           79\n",
      "Media inversión          10\n",
      "Alta inversión            1\n",
      "Muy alta inversión        1\n",
      "Name: count, dtype: int64\n"
     ]
    }
   ],
   "source": [
    "# Muy baja inversión , está la mayoría , y luego los otros 4 quintiles:\n",
    "#Baja inversión           79\n",
    "#Media inversión          10\n",
    "#Alta inversión            1\n",
    "#Muy alta inversión        1\n",
    "print(conteo_rangos)\n"
   ]
  },
  {
   "cell_type": "code",
   "execution_count": 25,
   "metadata": {},
   "outputs": [
    {
     "name": "stderr",
     "output_type": "stream",
     "text": [
      "C:\\Users\\BMENDI\\AppData\\Local\\Temp\\ipykernel_11444\\2692600834.py:5: FutureWarning: \n",
      "\n",
      "Passing `palette` without assigning `hue` is deprecated and will be removed in v0.14.0. Assign the `x` variable to `hue` and set `legend=False` for the same effect.\n",
      "\n",
      "  sns.barplot(x=conteo_rangos.index, y=conteo_rangos.values, palette=\"Set3\")\n"
     ]
    },
    {
     "data": {
      "image/png": "[encoded data removed]",
      "text/plain": [
       "<Figure size 1000x600 with 1 Axes>"
      ]
     },
     "metadata": {},
     "output_type": "display_data"
    }
   ],
   "source": [
    "#la cantidad de gente según categoría de bal representado en barplot \n",
    "\n",
    "plt.figure(figsize=(10, 6))\n",
    "\n",
    "sns.barplot(x=conteo_rangos.index, y=conteo_rangos.values, palette=\"Set3\")\n",
    "\n",
    "plt.title(\"Clientes por nivel de inversión (quintiles)\", fontsize=14)\n",
    "plt.xlabel(\"Rango de inversión\", fontsize=12)\n",
    "plt.ylabel(\"Cantidad de clientes\", fontsize=12)\n",
    "\n",
    "plt.show()"
   ]
  },
  {
   "cell_type": "markdown",
   "metadata": {},
   "source": [
    "Las veces que entran en la web los  4 quintiles que son los que nos interesan, tienen más dinero pero son menor en número. "
   ]
  },
  {
   "cell_type": "code",
   "execution_count": 26,
   "metadata": {},
   "outputs": [
    {
     "name": "stdout",
     "output_type": "stream",
     "text": [
      "Total de logins (últimos 4 quintiles): 691\n"
     ]
    }
   ],
   "source": [
    "total_logons = df_top_4_quintiles['logons_6_mnth'].sum()\n",
    "print(\"Total de logins (últimos 4 quintiles):\", total_logons)"
   ]
  },
  {
   "cell_type": "code",
   "execution_count": 27,
   "metadata": {},
   "outputs": [
    {
     "name": "stdout",
     "output_type": "stream",
     "text": [
      "logons_6_mnth\n",
      "2     1\n",
      "3     2\n",
      "4     5\n",
      "5     5\n",
      "6     5\n",
      "7    18\n",
      "8    13\n",
      "9    42\n",
      "Name: count, dtype: int64\n"
     ]
    }
   ],
   "source": [
    "# la cantidad de gente que entra x veces a la web\n",
    "logins_por_frecuencia = df_top_4_quintiles['logons_6_mnth'].value_counts().sort_index()\n",
    "print(logins_por_frecuencia)"
   ]
  },
  {
   "cell_type": "code",
   "execution_count": 28,
   "metadata": {},
   "outputs": [
    {
     "name": "stderr",
     "output_type": "stream",
     "text": [
      "C:\\Users\\BMENDI\\AppData\\Local\\Temp\\ipykernel_11444\\2865889050.py:2: FutureWarning: \n",
      "\n",
      "Passing `palette` without assigning `hue` is deprecated and will be removed in v0.14.0. Assign the `x` variable to `hue` and set `legend=False` for the same effect.\n",
      "\n",
      "  sns.barplot(x=logins_por_frecuencia.index, y=logins_por_frecuencia.values, palette=\"Set3\")\n"
     ]
    },
    {
     "data": {
      "image/png": "[encoded data removed]",
      "text/plain": [
       "<Figure size 640x480 with 1 Axes>"
      ]
     },
     "metadata": {},
     "output_type": "display_data"
    }
   ],
   "source": [
    "# Distribución de logins (últimos 4 quintiles de inversión)\n",
    "sns.barplot(x=logins_por_frecuencia.index, y=logins_por_frecuencia.values, palette=\"Set3\")\n",
    "plt.title(\"Distribución de logins (últimos 4 quintiles de inversión)\")\n",
    "plt.xlabel(\"Cantidad de logins en 6 meses\")\n",
    "plt.ylabel(\"Número de clientes\")\n",
    "plt.show()"
   ]
  },
  {
   "cell_type": "code",
   "execution_count": 29,
   "metadata": {},
   "outputs": [
    {
     "data": {
      "image/png": "[encoded data removed]",
      "text/plain": [
       "<Figure size 640x480 with 1 Axes>"
      ]
     },
     "metadata": {},
     "output_type": "display_data"
    }
   ],
   "source": [
    "# Filtrar solo los clientes con 9 logons y mas de 4000000 de bal, así son los top clientes de la web \n",
    "df_filtrado = df_demo[(df_demo['logons_6_mnth'] == 9) & (df_demo['bal'] > 4_000_000)]\n",
    "\n",
    "# Histograma de la edad de esos clientes\n",
    "sns.histplot(df_filtrado['clnt_age'], kde=True, bins=30, color=\"blue\")\n",
    "\n",
    "plt.show()"
   ]
  },
  {
   "cell_type": "code",
   "execution_count": 54,
   "metadata": {},
   "outputs": [
    {
     "data": {
      "text/html": [
       "<div>\n",
       "<style scoped>\n",
       "    .dataframe tbody tr th:only-of-type {\n",
       "        vertical-align: middle;\n",
       "    }\n",
       "\n",
       "    .dataframe tbody tr th {\n",
       "        vertical-align: top;\n",
       "    }\n",
       "\n",
       "    .dataframe thead th {\n",
       "        text-align: right;\n",
       "    }\n",
       "</style>\n",
       "<table border=\"1\" class=\"dataframe\">\n",
       "  <thead>\n",
       "    <tr style=\"text-align: right;\">\n",
       "      <th></th>\n",
       "      <th>client_id</th>\n",
       "      <th>visitor_id</th>\n",
       "      <th>visit_id</th>\n",
       "      <th>process_step</th>\n",
       "      <th>date_time</th>\n",
       "      <th>Variation</th>\n",
       "    </tr>\n",
       "  </thead>\n",
       "  <tbody>\n",
       "    <tr>\n",
       "      <th>0</th>\n",
       "      <td>9988021</td>\n",
       "      <td>580560515_7732621733</td>\n",
       "      <td>781255054_21935453173_531117</td>\n",
       "      <td>step_3</td>\n",
       "      <td>2017-04-17 15:27:07</td>\n",
       "      <td>Test</td>\n",
       "    </tr>\n",
       "    <tr>\n",
       "      <th>1</th>\n",
       "      <td>9988021</td>\n",
       "      <td>580560515_7732621733</td>\n",
       "      <td>781255054_21935453173_531117</td>\n",
       "      <td>step_2</td>\n",
       "      <td>2017-04-17 15:26:51</td>\n",
       "      <td>Test</td>\n",
       "    </tr>\n",
       "    <tr>\n",
       "      <th>2</th>\n",
       "      <td>9988021</td>\n",
       "      <td>580560515_7732621733</td>\n",
       "      <td>781255054_21935453173_531117</td>\n",
       "      <td>step_3</td>\n",
       "      <td>2017-04-17 15:19:22</td>\n",
       "      <td>Test</td>\n",
       "    </tr>\n",
       "    <tr>\n",
       "      <th>3</th>\n",
       "      <td>9988021</td>\n",
       "      <td>580560515_7732621733</td>\n",
       "      <td>781255054_21935453173_531117</td>\n",
       "      <td>step_2</td>\n",
       "      <td>2017-04-17 15:19:13</td>\n",
       "      <td>Test</td>\n",
       "    </tr>\n",
       "    <tr>\n",
       "      <th>4</th>\n",
       "      <td>9988021</td>\n",
       "      <td>580560515_7732621733</td>\n",
       "      <td>781255054_21935453173_531117</td>\n",
       "      <td>step_3</td>\n",
       "      <td>2017-04-17 15:18:04</td>\n",
       "      <td>Test</td>\n",
       "    </tr>\n",
       "    <tr>\n",
       "      <th>...</th>\n",
       "      <td>...</td>\n",
       "      <td>...</td>\n",
       "      <td>...</td>\n",
       "      <td>...</td>\n",
       "      <td>...</td>\n",
       "      <td>...</td>\n",
       "    </tr>\n",
       "    <tr>\n",
       "      <th>75</th>\n",
       "      <td>9814849</td>\n",
       "      <td>643702528_85907162029</td>\n",
       "      <td>912594178_11107066778_946103</td>\n",
       "      <td>step_2</td>\n",
       "      <td>2017-04-05 11:22:08</td>\n",
       "      <td>Control</td>\n",
       "    </tr>\n",
       "    <tr>\n",
       "      <th>76</th>\n",
       "      <td>9814849</td>\n",
       "      <td>643702528_85907162029</td>\n",
       "      <td>912594178_11107066778_946103</td>\n",
       "      <td>step_1</td>\n",
       "      <td>2017-04-05 11:22:00</td>\n",
       "      <td>Control</td>\n",
       "    </tr>\n",
       "    <tr>\n",
       "      <th>77</th>\n",
       "      <td>9814849</td>\n",
       "      <td>643702528_85907162029</td>\n",
       "      <td>912594178_11107066778_946103</td>\n",
       "      <td>start</td>\n",
       "      <td>2017-04-05 11:21:53</td>\n",
       "      <td>Control</td>\n",
       "    </tr>\n",
       "    <tr>\n",
       "      <th>78</th>\n",
       "      <td>9814849</td>\n",
       "      <td>643702528_85907162029</td>\n",
       "      <td>912594178_11107066778_946103</td>\n",
       "      <td>start</td>\n",
       "      <td>2017-04-05 11:20:38</td>\n",
       "      <td>Control</td>\n",
       "    </tr>\n",
       "    <tr>\n",
       "      <th>79</th>\n",
       "      <td>5407849</td>\n",
       "      <td>419808108_25250476789</td>\n",
       "      <td>370129048_76114952835_698370</td>\n",
       "      <td>confirm</td>\n",
       "      <td>2017-04-05 11:02:44</td>\n",
       "      <td>Test</td>\n",
       "    </tr>\n",
       "  </tbody>\n",
       "</table>\n",
       "<p>80 rows × 6 columns</p>\n",
       "</div>"
      ],
      "text/plain": [
       "    client_id             visitor_id                      visit_id  \\\n",
       "0     9988021   580560515_7732621733  781255054_21935453173_531117   \n",
       "1     9988021   580560515_7732621733  781255054_21935453173_531117   \n",
       "2     9988021   580560515_7732621733  781255054_21935453173_531117   \n",
       "3     9988021   580560515_7732621733  781255054_21935453173_531117   \n",
       "4     9988021   580560515_7732621733  781255054_21935453173_531117   \n",
       "..        ...                    ...                           ...   \n",
       "75    9814849  643702528_85907162029  912594178_11107066778_946103   \n",
       "76    9814849  643702528_85907162029  912594178_11107066778_946103   \n",
       "77    9814849  643702528_85907162029  912594178_11107066778_946103   \n",
       "78    9814849  643702528_85907162029  912594178_11107066778_946103   \n",
       "79    5407849  419808108_25250476789  370129048_76114952835_698370   \n",
       "\n",
       "   process_step             date_time Variation  \n",
       "0        step_3  2017-04-17 15:27:07       Test  \n",
       "1        step_2   2017-04-17 15:26:51      Test  \n",
       "2        step_3   2017-04-17 15:19:22      Test  \n",
       "3        step_2   2017-04-17 15:19:13      Test  \n",
       "4        step_3   2017-04-17 15:18:04      Test  \n",
       "..          ...                   ...       ...  \n",
       "75       step_2   2017-04-05 11:22:08   Control  \n",
       "76       step_1   2017-04-05 11:22:00   Control  \n",
       "77        start   2017-04-05 11:21:53   Control  \n",
       "78        start   2017-04-05 11:20:38   Control  \n",
       "79      confirm   2017-04-05 11:02:44      Test  \n",
       "\n",
       "[80 rows x 6 columns]"
      ]
     },
     "execution_count": 54,
     "metadata": {},
     "output_type": "execute_result"
    }
   ],
   "source": [
    "df_web.head(80)"
   ]
  },
  {
   "cell_type": "markdown",
   "metadata": {},
   "source": [
    "# KPIs"
   ]
  },
  {
   "cell_type": "markdown",
   "metadata": {},
   "source": [
    "### KPI Tasa de finalización"
   ]
  },
  {
   "cell_type": "code",
   "execution_count": 30,
   "metadata": {},
   "outputs": [],
   "source": [
    "# Unimos los datos web con los datos de experimento\n",
    "df_web = df_web.merge(df_experiment, on='client_id', how='left')"
   ]
  },
  {
   "cell_type": "code",
   "execution_count": 55,
   "metadata": {},
   "outputs": [],
   "source": [
    "# Usuarios que llegaron a la página de confirmación\n",
    "usuarios_confirmacion = df_web[df_web['process_step'] == 'confirm']"
   ]
  },
  {
   "cell_type": "code",
   "execution_count": 57,
   "metadata": {},
   "outputs": [
    {
     "data": {
      "text/plain": [
       "Variation\n",
       "Control    23532\n",
       "Test       26968\n",
       "Name: client_id, dtype: int64"
      ]
     },
     "execution_count": 57,
     "metadata": {},
     "output_type": "execute_result"
    }
   ],
   "source": [
    "# Total de usuarios únicos por grupo\n",
    "total_por_grupo = df_web.groupby('Variation')['client_id'].nunique()\n",
    "total_por_grupo"
   ]
  },
  {
   "cell_type": "code",
   "execution_count": 59,
   "metadata": {},
   "outputs": [
    {
     "data": {
      "text/plain": [
       "Variation\n",
       "Control    15434\n",
       "Test       18687\n",
       "Name: client_id, dtype: int64"
      ]
     },
     "execution_count": 59,
     "metadata": {},
     "output_type": "execute_result"
    }
   ],
   "source": [
    "# Usuarios que completaron el proceso por grupo\n",
    "completaron_por_grupo = usuarios_confirmacion.groupby('Variation')['client_id'].nunique()\n",
    "completaron_por_grupo"
   ]
  },
  {
   "cell_type": "code",
   "execution_count": 61,
   "metadata": {},
   "outputs": [
    {
     "data": {
      "text/plain": [
       "Variation\n",
       "Control    0.6559\n",
       "Test       0.6929\n",
       "Name: client_id, dtype: float64"
      ]
     },
     "execution_count": 61,
     "metadata": {},
     "output_type": "execute_result"
    }
   ],
   "source": [
    "# Tasa de finalización por grupo\n",
    "tasa_finalizacion = (completaron_por_grupo / total_por_grupo).round(4)\n",
    "tasa_finalizacion"
   ]
  },
  {
   "cell_type": "markdown",
   "metadata": {},
   "source": [
    "##### Vemos que el porcentaje de gente que completa el proceso con el modelo clásico (control) es de 65,59%\n",
    "##### Vemos que el porcentaje de gente que completa el proceso con el modelo optimizado (test) es de 69,29%\n",
    "##### Apreciamos que con el cambio, hemos mejorado la tasa de confirmaciones."
   ]
  },
  {
   "cell_type": "markdown",
   "metadata": {},
   "source": [
    "## KPI Tiempo dedicado a cada paso"
   ]
  },
  {
   "cell_type": "code",
   "execution_count": 64,
   "metadata": {},
   "outputs": [
    {
     "data": {
      "text/plain": [
       "Index(['client_id', 'visitor_id', 'visit_id', 'process_step', 'date_time',\n",
       "       'Variation'],\n",
       "      dtype='object')"
      ]
     },
     "execution_count": 64,
     "metadata": {},
     "output_type": "execute_result"
    }
   ],
   "source": [
    "df_web.columns"
   ]
  },
  {
   "cell_type": "code",
   "execution_count": 77,
   "metadata": {},
   "outputs": [],
   "source": [
    "df_web['date_time'] = pd.to_datetime(df_web['date_time'].astype(str).str.strip(), errors='coerce')"
   ]
  },
  {
   "cell_type": "code",
   "execution_count": 78,
   "metadata": {},
   "outputs": [],
   "source": [
    "# Convertimos la columna date_time a tipo datetime\n",
    "df_web['date_time'] = pd.to_datetime(df_web['date_time'])"
   ]
  },
  {
   "cell_type": "code",
   "execution_count": 79,
   "metadata": {},
   "outputs": [],
   "source": [
    "# Ordenamos por cliente, visita y tiempo\n",
    "df_web.sort_values(by=['client_id', 'visit_id', 'date_time'], inplace=True)"
   ]
  },
  {
   "cell_type": "code",
   "execution_count": 80,
   "metadata": {},
   "outputs": [],
   "source": [
    "# Calculamos la diferencia de tiempo por cliente y visita\n",
    "df_web['tiempo_diferencia'] = df_web.groupby(['client_id', 'visit_id'])['date_time'].diff().dt.total_seconds()"
   ]
  },
  {
   "cell_type": "code",
   "execution_count": 87,
   "metadata": {},
   "outputs": [],
   "source": [
    "# Creamos pares de pasos para analizar tiempos entre ellos\n",
    "pares_pasos = [('start', 'step_1'), ('step_1', 'step_2'), ('step_2', 'step_3'), ('step_3', 'confirm')]"
   ]
  },
  {
   "cell_type": "code",
   "execution_count": 88,
   "metadata": {},
   "outputs": [
    {
     "name": "stderr",
     "output_type": "stream",
     "text": [
      "C:\\Users\\BMENDI\\AppData\\Local\\Temp\\ipykernel_11444\\2619397816.py:14: UserWarning: Boolean Series key will be reindexed to match DataFrame index.\n",
      "  transiciones = transiciones[df_web['process_step'].shift(1) == paso_origen]\n",
      "C:\\Users\\BMENDI\\AppData\\Local\\Temp\\ipykernel_11444\\2619397816.py:14: UserWarning: Boolean Series key will be reindexed to match DataFrame index.\n",
      "  transiciones = transiciones[df_web['process_step'].shift(1) == paso_origen]\n",
      "C:\\Users\\BMENDI\\AppData\\Local\\Temp\\ipykernel_11444\\2619397816.py:14: UserWarning: Boolean Series key will be reindexed to match DataFrame index.\n",
      "  transiciones = transiciones[df_web['process_step'].shift(1) == paso_origen]\n"
     ]
    },
    {
     "name": "stdout",
     "output_type": "stream",
     "text": [
      "Tiempo promedio de start → step_1 (en segundos):\n",
      "Variation\n",
      "Control    37.64\n",
      "Test       31.07\n",
      "Name: tiempo_diferencia, dtype: float64\n",
      "Tiempo promedio de step_1 → step_2 (en segundos):\n",
      "Variation\n",
      "Control    33.82\n",
      "Test       37.10\n",
      "Name: tiempo_diferencia, dtype: float64\n",
      "Tiempo promedio de step_2 → step_3 (en segundos):\n",
      "Variation\n",
      "Control    87.01\n",
      "Test       86.47\n",
      "Name: tiempo_diferencia, dtype: float64\n",
      "Tiempo promedio de step_3 → confirm (en segundos):\n",
      "Variation\n",
      "Control    127.15\n",
      "Test       104.83\n",
      "Name: tiempo_diferencia, dtype: float64\n"
     ]
    },
    {
     "name": "stderr",
     "output_type": "stream",
     "text": [
      "C:\\Users\\BMENDI\\AppData\\Local\\Temp\\ipykernel_11444\\2619397816.py:14: UserWarning: Boolean Series key will be reindexed to match DataFrame index.\n",
      "  transiciones = transiciones[df_web['process_step'].shift(1) == paso_origen]\n"
     ]
    }
   ],
   "source": [
    "# Diccionario para guardar resultados\n",
    "tiempos_promedios = {}\n",
    "\n",
    "for paso_origen, paso_destino in pares_pasos:\n",
    "    # filtramos movimientos donde origen -> destino\n",
    "    mask_origen = df_web['process_step'] == paso_origen\n",
    "    mask_destino = df_web['process_step'] == paso_destino\n",
    "\n",
    "    # extraemos el tiempo entre pasos\n",
    "    transiciones = df_web[mask_destino].copy()\n",
    "    transiciones['prev_step'] = df_web[mask_destino].groupby(['client_id', 'visit_id'])['process_step'].shift(1)\n",
    "    \n",
    "    # filtramos solo si el paso anterior fue el esperado\n",
    "    transiciones = transiciones[df_web['process_step'].shift(1) == paso_origen]\n",
    "    \n",
    "    # agrupamos por grupo de experimento\n",
    "    tiempos_promedios[f\"{paso_origen} → {paso_destino}\"] = transiciones.groupby('Variation')['tiempo_diferencia'].mean().round(2)\n",
    "\n",
    "# 6. Mostramos los resultados\n",
    "for k, v in tiempos_promedios.items():\n",
    "    print(f\"Tiempo promedio de {k} (en segundos):\")\n",
    "    print(v)"
   ]
  }
 ],
 "metadata": {
  "kernelspec": {
   "display_name": "Python 3",
   "language": "python",
   "name": "python3"
  },
  "language_info": {
   "codemirror_mode": {
    "name": "ipython",
    "version": 3
   },
   "file_extension": ".py",
   "mimetype": "text/x-python",
   "name": "python",
   "nbconvert_exporter": "python",
   "pygments_lexer": "ipython3",
   "version": "3.12.1"
  }
 },
 "nbformat": 4,
 "nbformat_minor": 2
}
